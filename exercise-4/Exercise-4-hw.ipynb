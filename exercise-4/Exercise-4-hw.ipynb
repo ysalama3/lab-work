{
 "cells": [
  {
   "cell_type": "code",
   "execution_count": 1,
   "metadata": {
    "collapsed": true
   },
   "outputs": [],
   "source": [
    "#Homework\n",
    "\n",
    "    #Write a for-loop that prints out the numbers from 100 to 110.\n",
    "\n",
    "    #Write a while- loop that prints out the numbers from 100 to 110.\n",
    "\n",
    "    #Write a loop that prints out the squares of the numbers from 10-15. This can be a for or a while loop.\n",
    "\n",
    "    #Write a loop that iterates over the list [\"Scooby\", \"Shaggy\", \"Velma\", \"Daphne\", \"Fred\"] and for each character prints the statement \"XXX is a character in that most glorious of cartoons, Scooby Doo\".\n",
    "\n",
    "    #Write a function that meets the following criteria:\n",
    "\n",
    "#1. The function must be named \"fact_or_sum\"   \n",
    "#2. The function must take in one input, which must be an integer. If the user inputs a string, the function should return an error message.\n",
    "#3. If the input integer is 0, the function returns the number 0.  \n",
    "#4. If the input integer is an odd number, the function returns the factorial of the number. \n",
    "#4a. A factorial is computed as the product of a number and each integer below that number, until 1 (e.g. n*(n-1)*(n-2)...*1)\n",
    "#5. The factorial MUST be computed with a for loop. \n",
    "#6. If the input integer is an even number, the function returns the sum of that number and all numbers below it, until 1 (e.g. n+(n-1)+(n-2)...+1).\n",
    "#6a. The sum must be computed with a while loop.\n"
   ]
  },
  {
   "cell_type": "code",
   "execution_count": 4,
   "metadata": {
    "collapsed": false
   },
   "outputs": [
    {
     "name": "stdout",
     "output_type": "stream",
     "text": [
      "[100, 101, 102, 103, 104, 105, 106, 107, 108, 109, 110]\n"
     ]
    }
   ],
   "source": [
    "#Write a for-loop that prints out the numbers from 100 to 110.\n",
    "\n",
    "list_of_numbers = []\n",
    "for current_count in (range(99,110)):\n",
    "    newnumber = current_count+1\n",
    "    list_of_numbers.append(newnumber)\n",
    "\n",
    "print(list_of_numbers)\n"
   ]
  },
  {
   "cell_type": "code",
   "execution_count": 2,
   "metadata": {
    "collapsed": false
   },
   "outputs": [
    {
     "name": "stdout",
     "output_type": "stream",
     "text": [
      "100\n",
      "101\n",
      "102\n",
      "103\n",
      "104\n",
      "105\n",
      "106\n",
      "107\n",
      "108\n",
      "109\n",
      "110\n"
     ]
    }
   ],
   "source": [
    "#Write a while- loop that prints out the numbers from 100 to 110.\n",
    "\n",
    "current_time = 99\n",
    "\n",
    "while current_time < 110:\n",
    "    print(current_time+1)\n",
    "    current_time = current_time + 1\n",
    "   "
   ]
  },
  {
   "cell_type": "code",
   "execution_count": 5,
   "metadata": {
    "collapsed": false
   },
   "outputs": [
    {
     "name": "stdout",
     "output_type": "stream",
     "text": [
      "[100, 121, 144, 169, 196, 225]\n"
     ]
    }
   ],
   "source": [
    "#Write a loop that prints out the squares of the numbers from 10-15. This can be a for or a while loop\n",
    "list_of_squares = []\n",
    "for current_count in (range(10,16)):\n",
    "    newnumber = current_count**2\n",
    "    list_of_squares.append(newnumber)\n",
    "\n",
    "print(list_of_squares)\n"
   ]
  },
  {
   "cell_type": "code",
   "execution_count": 6,
   "metadata": {
    "collapsed": false
   },
   "outputs": [
    {
     "name": "stdout",
     "output_type": "stream",
     "text": [
      "Scoobyis a character in that most glorious of cartoons, Scooby Doo\n",
      "\n",
      "\n",
      "Shaggyis a character in that most glorious of cartoons, Scooby Doo\n",
      "\n",
      "\n",
      "Velmais a character in that most glorious of cartoons, Scooby Doo\n",
      "\n",
      "\n",
      "Daphneis a character in that most glorious of cartoons, Scooby Doo\n",
      "\n",
      "\n",
      "Fredis a character in that most glorious of cartoons, Scooby Doo\n",
      "\n",
      "\n"
     ]
    }
   ],
   "source": [
    "#Write a loop that iterates over the list [\"Scooby\", \"Shaggy\", \"Velma\", \"Daphne\", \"Fred\"] and for each character prints the statement \"XXX is a character in that most glorious of cartoons, Scooby Doo\".\n",
    "\n",
    "for item in [\"Scooby\", \"Shaggy\", \"Velma\", \"Daphne\", \"Fred\"]:\n",
    "    print(item + \"is a character in that most glorious of cartoons, Scooby Doo\")\n",
    "    print(\"\\n\")\n"
   ]
  },
  {
   "cell_type": "code",
   "execution_count": 19,
   "metadata": {
    "collapsed": false
   },
   "outputs": [
    {
     "data": {
      "text/plain": [
       "'Error, it is a string !'"
      ]
     },
     "execution_count": 19,
     "metadata": {},
     "output_type": "execute_result"
    }
   ],
   "source": [
    "def fact_or_sum(num):\n",
    "    if type(num)== str:\n",
    "        return(\"Error, it is a string !\")\n",
    "    else:\n",
    "        if (num==0):\n",
    "            return(0)\n",
    "        elif(num%2 == 0):\n",
    "            current_number = 0\n",
    "            while num > 0:\n",
    "                current_number = current_number + num\n",
    "                num = num - 1\n",
    "            return(current_number)\n",
    "        elif (num%2 == 1):\n",
    "            xx = 1\n",
    "            for integer in (range (num,0,-1)):\n",
    "                xx = xx * integer\n",
    "                integer = integer - 1\n",
    "            return(xx)    \n",
    "            \n",
    "            \n",
    "    \n",
    "\n",
    "fact_or_sum(\"a\")\n"
   ]
  },
  {
   "cell_type": "code",
   "execution_count": 36,
   "metadata": {
    "collapsed": false
   },
   "outputs": [],
   "source": [
    "#Write a function that meets the following criteria:\n",
    "\n",
    "#1. The function must be named \"fact_or_sum\"   \n",
    "#2. The function must take in one input, which must be an integer. If the user inputs a string, the function should return an error message.\n",
    "#3. If the input integer is 0, the function returns the number 0.  \n",
    "#4. If the input integer is an odd number, the function returns the factorial of the number. \n",
    "#4a. A factorial is computed as the product of a number and each integer below that number, until 1 (e.g. n*(n-1)*(n-2)...*1)\n",
    "#5. The factorial MUST be computed with a for loop. \n",
    "#6. If the input integer is an even number, the function returns the sum of that number and all numbers below it, until 1 (e.g. n+(n-1)+(n-2)...+1).\n",
    "#6a. The sum must be computed with a while loop.\n",
    "\n",
    "    "
   ]
  },
  {
   "cell_type": "code",
   "execution_count": null,
   "metadata": {
    "collapsed": false
   },
   "outputs": [],
   "source": []
  },
  {
   "cell_type": "code",
   "execution_count": null,
   "metadata": {
    "collapsed": false
   },
   "outputs": [],
   "source": [
    "\n",
    "\n"
   ]
  },
  {
   "cell_type": "code",
   "execution_count": null,
   "metadata": {
    "collapsed": true
   },
   "outputs": [],
   "source": []
  },
  {
   "cell_type": "code",
   "execution_count": null,
   "metadata": {
    "collapsed": true
   },
   "outputs": [],
   "source": []
  }
 ],
 "metadata": {
  "anaconda-cloud": {},
  "kernelspec": {
   "display_name": "Python [conda root]",
   "language": "python",
   "name": "conda-root-py"
  },
  "language_info": {
   "codemirror_mode": {
    "name": "ipython",
    "version": 3
   },
   "file_extension": ".py",
   "mimetype": "text/x-python",
   "name": "python",
   "nbconvert_exporter": "python",
   "pygments_lexer": "ipython3",
   "version": "3.5.2"
  }
 },
 "nbformat": 4,
 "nbformat_minor": 2
}

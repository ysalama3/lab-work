{
 "cells": [
  {
   "cell_type": "markdown",
   "metadata": {},
   "source": [
    "### Setup\n",
    "\n",
    "Download a copy of this ipython notebook from Gaurav's github and save it in the folder `~/Desktop/eeb-177/lab-work/exercise-4`. Navigate to that folder in your terminal and use `git` to add, commit and push the blank file. Launch jupyter notebook and complete the exercises below. At the end of class, re-commit the final version of the file with your answers.  "
   ]
  },
  {
   "cell_type": "markdown",
   "metadata": {},
   "source": [
    "## Exercise 4- Loops!\n",
    "\n",
    "Often times we wish to run the same few lines of code many many times- for example, we might want to generate estimates of speciation and extinction rates for all plant genera in our database, or we might want to play our rock-paper-scissors game from last week a thousand times. \n",
    "\n",
    "There are two (well, probably more) ways to do this: we could just write the same line of code over and over again, or we could write a single `for` loop. For reasons that should become obvious soon, the second option is vastly preferrable. \n",
    "\n",
    "Let's begin with the first approach to see why.\n",
    "\n",
    "--------------------"
   ]
  },
  {
   "cell_type": "markdown",
   "metadata": {},
   "source": [
    "### Part 1    \n",
    "Answer the following questions **without using any for loops**\n",
    "\n",
    "\n",
    "##### Question 1\n",
    "\n",
    "Write python code that will produce an output that looks like this:  \n",
    "\n",
    "<pre>\n",
    "Liftoff in 10 seconds\n",
    "Liftoff in 9 seconds\n",
    "Liftoff in 8 seconds\n",
    "Liftoff in 7 seconds\n",
    "Liftoff in 6 seconds\n",
    "Liftoff in 5 seconds\n",
    "Liftoff in 4 seconds\n",
    "Liftoff in 3 seconds\n",
    "Liftoff in 2 seconds\n",
    "Liftoff in 1 seconds\n",
    "</pre>"
   ]
  },
  {
   "cell_type": "code",
   "execution_count": 14,
   "metadata": {
    "collapsed": false
   },
   "outputs": [
    {
     "name": "stdout",
     "output_type": "stream",
     "text": [
      "Liftoff in 10 seconds\n",
      "Liftoff in 9 seconds\n",
      "Liftoff in 8 seconds\n",
      "Liftoff in 7 seconds\n",
      "Liftoff in 6 seconds\n",
      "Liftoff in 5 seconds\n",
      "Liftoff in 4 seconds\n",
      "Liftoff in 3 seconds\n",
      "Liftoff in 2 seconds\n",
      "Liftoff in 1 seconds\n"
     ]
    }
   ],
   "source": [
    "# your code here\n",
    "# NO LOOPS, \n",
    "\n",
    "print(\"Liftoff in 10 seconds\");print(\"Liftoff in 9 seconds\");print(\"Liftoff in 8 seconds\");print(\"Liftoff in 7 seconds\");print(\"Liftoff in 6 seconds\");print(\"Liftoff in 5 seconds\");print(\"Liftoff in 4 seconds\");print(\"Liftoff in 3 seconds\");print(\"Liftoff in 2 seconds\");print(\"Liftoff in 1 seconds\")"
   ]
  },
  {
   "cell_type": "markdown",
   "metadata": {},
   "source": [
    "##### Question 2 \n",
    "Write some code that will compute the sum of the squares of numbers from 1 to 8 (i.e. 1^2 + 2^2...8^2)"
   ]
  },
  {
   "cell_type": "code",
   "execution_count": 15,
   "metadata": {
    "collapsed": false
   },
   "outputs": [
    {
     "data": {
      "text/plain": [
       "204"
      ]
     },
     "execution_count": 15,
     "metadata": {},
     "output_type": "execute_result"
    }
   ],
   "source": [
    "# your code here\n",
    "# NO LOOPS, PLEASE\n",
    "sum([1**2, 2**2, 3**2, 4**2, 5**2, 6**2, 7**2, 8**2])"
   ]
  },
  {
   "cell_type": "markdown",
   "metadata": {},
   "source": [
    "##### Question 3\n",
    "\n",
    "Let's say that you have three strings called `s0`, `s1`, and `s2` that have the following contents: \n",
    "\n",
    "<pre>\n",
    "s0 is \"atgtaca\"\n",
    "s1 is \"atttaca\"\n",
    "s2 is \"attttca\"\n",
    "</pre>\n",
    "\n",
    "Write some code that will do the following:  \n",
    "1) Define the variables `s0`, `s1`, and `s2` as above.   \n",
    "2) Count the number of times the character `t` appears in each object (the answer should be 2, 3, 4)"
   ]
  },
  {
   "cell_type": "code",
   "execution_count": 21,
   "metadata": {
    "collapsed": false
   },
   "outputs": [
    {
     "name": "stdout",
     "output_type": "stream",
     "text": [
      "2\n",
      "3\n",
      "4\n"
     ]
    }
   ],
   "source": [
    "# your code here\n",
    "# NO LOOPS PLEASE\n",
    "\n",
    "s0 = \"atgtaca\"\n",
    "s1 = \"atttaca\"\n",
    "s2 = \"attttca\"\n",
    "\n",
    "print(s0.count(\"t\"))\n",
    "print(s1.count(\"t\"))\n",
    "print(s2.count(\"t\"))\n"
   ]
  },
  {
   "cell_type": "markdown",
   "metadata": {},
   "source": [
    "##### Question 4\n",
    "Make a list that contains eight elements, which are the squares of the numbers from 1 to 8. In other words, your list should contain the elements (1, 4, 9, ... 64)."
   ]
  },
  {
   "cell_type": "code",
   "execution_count": 27,
   "metadata": {
    "collapsed": false
   },
   "outputs": [
    {
     "name": "stdout",
     "output_type": "stream",
     "text": [
      "1,4,9,16,25,36,49,64\n"
     ]
    }
   ],
   "source": [
    "# your code here\n",
    "# NO LOOPS PLEASE\n",
    "\n",
    "print(\"1,4,9,16,25,36,49,64\")"
   ]
  },
  {
   "cell_type": "markdown",
   "metadata": {},
   "source": [
    "-------------------\n",
    "\n",
    "### Performing these tasks more efficiently with For loops\n",
    "\n",
    "In each of the previous exercises, you had to write multiple lines of code that performed slight variations on the same task (e.g. count the number of `t`s, square a number, etc. If you find yourself writing a lot of lines of code that use the same python function, you're probably better off writing a loop.\n",
    "\n",
    "There are a couple of types of loops in python. We begin by exploring `for` loops, and introduce `while` loops next.\n",
    "\n",
    "#### For loops\n",
    "In many cases, you need to repeat a task many times, and you know exactly how many times you need it to be done. For example, you knew in Question 1 above that you wanted to print 10 lines, and you knew in Question 3 that you wanted to know the number of `t`s in three objects. `for` loops are ideal in these situations because the content in a for loop is repeated a set number of times. \n",
    "\n",
    "`for` loops take the following form:\n",
    "\n",
    "```\n",
    "for <variable> in <set_to_iterate_over>:\n",
    "    perform task(s)\n",
    "```\n",
    "\n",
    "Note that `<variable>` and `<set_to_iterate_over>` are placeholders! The content of the `for` loop is run as many times as there are items in `<set_to_iterate_over>`, and each time through the loop, `<variable>` takes on the next value in the `<set_to_iterate_over>`. This might make more sense with an example:"
   ]
  },
  {
   "cell_type": "code",
   "execution_count": 28,
   "metadata": {
    "collapsed": false
   },
   "outputs": [
    {
     "name": "stdout",
     "output_type": "stream",
     "text": [
      "I had coffee for breakfast\n",
      "it was super yummy!\n",
      "\n",
      "\n",
      "I had bagel for breakfast\n",
      "it was super yummy!\n",
      "\n",
      "\n",
      "I had eggs for breakfast\n",
      "it was super yummy!\n",
      "\n",
      "\n",
      "I had strawberries for breakfast\n",
      "it was super yummy!\n",
      "\n",
      "\n",
      "I had orange juice for breakfast\n",
      "it was super yummy!\n",
      "\n",
      "\n",
      "I had cinnamon roll for breakfast\n",
      "it was super yummy!\n",
      "\n",
      "\n"
     ]
    }
   ],
   "source": [
    "# For each item in my decadent breakfast (I wish!)\n",
    "for item in [\"coffee\", \"bagel\", \"eggs\", \"strawberries\", \"orange juice\", \"cinnamon roll\"]:\n",
    "    # print a line the item's virtues\n",
    "    print(\"I had \" + item + \" for breakfast\")\n",
    "    print(\"it was super yummy!\")\n",
    "    # print an empty line\n",
    "    print(\"\\n\")"
   ]
  },
  {
   "cell_type": "markdown",
   "metadata": {
    "collapsed": true
   },
   "source": [
    "##### Revisiting Question 1\n",
    "In question 1 above, I asked you to write code that would create the following output: \n",
    "    \n",
    "<pre>\n",
    "Liftoff in 10 seconds\n",
    "Liftoff in 9 seconds\n",
    "Liftoff in 8 seconds\n",
    "Liftoff in 7 seconds\n",
    "Liftoff in 6 seconds\n",
    "Liftoff in 5 seconds\n",
    "Liftoff in 4 seconds\n",
    "Liftoff in 3 seconds\n",
    "Liftoff in 2 seconds\n",
    "Liftoff in 1 seconds\n",
    "</pre>\n",
    "\n",
    "We can achieve this task by making `<set_to_iterate_over>` the numbers from 10 to 1, and `<variable>` equal to each item in the set. \n",
    "\n",
    "We can make a variable `set_to_iterate_over` that contains a list from 10 to 1:"
   ]
  },
  {
   "cell_type": "code",
   "execution_count": 29,
   "metadata": {
    "collapsed": false
   },
   "outputs": [
    {
     "name": "stdout",
     "output_type": "stream",
     "text": [
      "Liftoff in 10 seconds\n",
      "Liftoff in 9 seconds\n",
      "Liftoff in 8 seconds\n",
      "Liftoff in 7 seconds\n",
      "Liftoff in 6 seconds\n",
      "Liftoff in 5 seconds\n",
      "Liftoff in 4 seconds\n",
      "Liftoff in 3 seconds\n",
      "Liftoff in 2 seconds\n",
      "Liftoff in 1 seconds\n"
     ]
    }
   ],
   "source": [
    "# Create a set of numbers\n",
    "set_to_iterate_over = [10, 9, 8,7,6,5,4,3,2,1]\n",
    "\n",
    "for current_number in set_to_iterate_over:\n",
    "    print(\"Liftoff in \" + str(current_number) + \" seconds\")"
   ]
  },
  {
   "cell_type": "markdown",
   "metadata": {},
   "source": [
    "Much better!\n",
    "\n",
    "We can also use the `range()` function in Python to create a list of numbers rather than writing it out:"
   ]
  },
  {
   "cell_type": "code",
   "execution_count": 30,
   "metadata": {
    "collapsed": false
   },
   "outputs": [
    {
     "name": "stdout",
     "output_type": "stream",
     "text": [
      "Liftoff in 10 seconds\n",
      "Liftoff in 9 seconds\n",
      "Liftoff in 8 seconds\n",
      "Liftoff in 7 seconds\n",
      "Liftoff in 6 seconds\n",
      "Liftoff in 5 seconds\n",
      "Liftoff in 4 seconds\n",
      "Liftoff in 3 seconds\n",
      "Liftoff in 2 seconds\n",
      "Liftoff in 1 seconds\n"
     ]
    }
   ],
   "source": [
    "# Loop over a range\n",
    "# The function range() makes a range from the first argument to the second\n",
    "# For ranges in decreasing order, we need to add the argument `-1`\n",
    "# Another quirk about the range function:\n",
    "# It is inclusive of the first bound of the range, but not of the second bound\n",
    "# For example, range(0, 5) goes 0, 1, 2, 3, 4\n",
    "# For example, range(5, 1) goes 5, 4, 3, 2\n",
    "\n",
    "for current_number in (range(10, 0, -1)):\n",
    "    print(\"Liftoff in \" + str(current_number) + \" seconds\")"
   ]
  },
  {
   "cell_type": "markdown",
   "metadata": {},
   "source": [
    "##### Revisiting question 2\n",
    "In question 2 above I ask you to write some code that will compute the sum of the squares of numbers from 1 to 8 (i.e. 1^2 + 2^2...8^2). \n",
    "\n",
    "We can achieve this with a `for` loop as well. In this case we initiate a variable called `total` that is initiall set to `0`, and that gets incremented each time through the loop.\n",
    "\n",
    "**Please fill in the body of the loop in the following code chunk**"
   ]
  },
  {
   "cell_type": "code",
   "execution_count": 40,
   "metadata": {
    "collapsed": false
   },
   "outputs": [
    {
     "name": "stdout",
     "output_type": "stream",
     "text": [
      "current total is: 64\n",
      "current total is: 113\n",
      "current total is: 149\n",
      "current total is: 174\n",
      "current total is: 190\n",
      "current total is: 199\n",
      "current total is: 203\n",
      "current total is: 204\n",
      "204\n"
     ]
    }
   ],
   "source": [
    "total = 0\n",
    "\n",
    "set_to_iterate_over = [8,7,6,5,4,3,2,1]\n",
    "# replace the XXXs with the correct code!\n",
    "for current_number in set_to_iterate_over:\n",
    "    # compute the square value \n",
    "    square = current_number**2 # This should compute the square of XXX\n",
    "    total = total + square # Increment the old value of total by the value square\n",
    "    print(\"current total is: \" + str(total))           # This prints out the cumulative total\n",
    "\n",
    "print(total)"
   ]
  },
  {
   "cell_type": "markdown",
   "metadata": {},
   "source": [
    "##### Revisiting question 3\n",
    "In question 3 I ask you to count the number of `t`s in each of the following strings:\n",
    "\n",
    "<pre>\n",
    "s0 is \"atgtaca\"\n",
    "s1 is \"atttaca\"\n",
    "s2 is \"attttca\"\n",
    "</pre>\n",
    "\n",
    "We can use a for loop to perform this task by making a list `set_to_iterate_over` whose elements are the sequences we are interested in. Modify the following loop as needed:"
   ]
  },
  {
   "cell_type": "code",
   "execution_count": 42,
   "metadata": {
    "collapsed": false
   },
   "outputs": [
    {
     "name": "stdout",
     "output_type": "stream",
     "text": [
      "There are 2 ts in the sequence atgtaca\n",
      "There are 3 ts in the sequence atttaca\n",
      "There are 4 ts in the sequence attttca\n"
     ]
    }
   ],
   "source": [
    "set_to_iterate_over = [\"atgtaca\", \"atttaca\", \"attttca\"]\n",
    "\n",
    "for t in set_to_iterate_over:\n",
    "    current_count = t.count('t')\n",
    "    # The next print statement should print lines that look like:\n",
    "    # \"There are 2 ts in the sequence atgtaca\n",
    "    print(\"There are \" + str(current_count) + \" ts in the sequence \" + t)"
   ]
  },
  {
   "cell_type": "markdown",
   "metadata": {},
   "source": [
    "##### Revisiting question 4\n",
    "In question 4 I asked you to make a list that contains eight elements, which are the squares of the numbers from 1 to 8. In other words, your list should contain the elements (1, 4, 9, ... 64).\n",
    "\n",
    "Let's explore how to do this with a loop. Any object of type `list` in python has a method called `append`.  For example, if we have a list called `my_favorite_animals` with our top 4 favorite animals, we can run `my_fav_animals.append(\"<fifth fav animal>)` to add a fifth animal to the list:"
   ]
  },
  {
   "cell_type": "code",
   "execution_count": 43,
   "metadata": {
    "collapsed": false
   },
   "outputs": [
    {
     "name": "stdout",
     "output_type": "stream",
     "text": [
      "['monocled cobras', 'rock hyrax', 'puffins', 'long beaked echidna']\n"
     ]
    }
   ],
   "source": [
    "my_fav_animals = [\"monocled cobras\", \"rock hyrax\", \"puffins\", \"long beaked echidna\"]\n",
    "print(my_fav_animals)"
   ]
  },
  {
   "cell_type": "code",
   "execution_count": 44,
   "metadata": {
    "collapsed": false
   },
   "outputs": [
    {
     "name": "stdout",
     "output_type": "stream",
     "text": [
      "['monocled cobras', 'rock hyrax', 'puffins', 'long beaked echidna', 'axolotl']\n"
     ]
    }
   ],
   "source": [
    "my_fav_animals.append(\"axolotl\")\n",
    "print(my_fav_animals)"
   ]
  },
  {
   "cell_type": "markdown",
   "metadata": {},
   "source": [
    "We can use this approach to *populate* a list through a `for` loop- each time through the loop, something new is appended to the list. \n",
    "\n",
    "The next code chunk gets you started by creating an empty list; your task is to write a `for` loop that will populate it with the squares of the numbers from 1 to 8."
   ]
  },
  {
   "cell_type": "code",
   "execution_count": 55,
   "metadata": {
    "collapsed": false
   },
   "outputs": [
    {
     "name": "stdout",
     "output_type": "stream",
     "text": [
      "[0, 1, 4, 9, 16, 25, 36, 49, 64]\n"
     ]
    }
   ],
   "source": [
    "# create an empty list\n",
    "# eventually, this list should look like:\n",
    "# [1, 4, 9, 16, 25, 36, 49, 64]\n",
    "list_of_squares = []\n",
    "for current_count in (range(0,9)):\n",
    "    newnumber = current_count**2\n",
    "    list_of_squares.append(newnumber)\n",
    "# Write a for loop here to populate list_of_squares.\n",
    "\n",
    "# After your for loop, print the list to make sure it worked:\n",
    "\n",
    "print(list_of_squares)"
   ]
  },
  {
   "cell_type": "markdown",
   "metadata": {},
   "source": [
    "### While loops\n",
    "\n",
    "`for` loops are most relevant when you know exactly how many times you wish to repeat a task. But sometimes, you just know that you want to repeat a task until some condition is met. For example, you might want to keep playing your rock-paper-scissors game until you have won 100 games. Who knows how long this will take!\n",
    "\n",
    "##### Revisiting question 1 again, this time with while loops\n",
    "The following while loop recreates the liftoff from Question 1 by checking on the condition \"time_left > 0\". If there is more than 0 seconds left until lift off, we want to print `Liftoff in n seconds`:"
   ]
  },
  {
   "cell_type": "code",
   "execution_count": 47,
   "metadata": {
    "collapsed": false
   },
   "outputs": [
    {
     "name": "stdout",
     "output_type": "stream",
     "text": [
      "Liftoff in 10 seconds\n",
      "Liftoff in 9 seconds\n",
      "Liftoff in 8 seconds\n",
      "Liftoff in 7 seconds\n",
      "Liftoff in 6 seconds\n",
      "Liftoff in 5 seconds\n",
      "Liftoff in 4 seconds\n",
      "Liftoff in 3 seconds\n",
      "Liftoff in 2 seconds\n",
      "Liftoff in 1 seconds\n"
     ]
    }
   ],
   "source": [
    "# start countdown at 10 seconds\n",
    "current_time = 10\n",
    "\n",
    "while current_time > 0:\n",
    "    # print the printout statement\n",
    "    print(\"Liftoff in \" + str(current_time) + \" seconds\")\n",
    "    # change the current_time to be equal to the current_time - 1\n",
    "    current_time = current_time - 1"
   ]
  },
  {
   "cell_type": "markdown",
   "metadata": {},
   "source": [
    "***IMPORTANT***: You can get stuck in infinite while-loops if you forget to update your condition! For example, if I left out the line `current_time = current_time - 1` from the previous loop, `current_time` would always be equal to `10`, so the condition of the while loop will always be true, so the loop will never end! \n",
    "\n",
    "If you find yourself in an infinite loop, press `control + C`."
   ]
  },
  {
   "cell_type": "markdown",
   "metadata": {},
   "source": [
    "##### Revisiting question 4 again, this time with while loops\n",
    "In question 4 I asked you to make a list that contains eight elements, which are the squares of the numbers from 1 to 8. In other words, your list should contain the elements (1, 4, 9, ... 64).\n",
    "\n",
    "Use what you have learned to perform this task with a `while` loop:"
   ]
  },
  {
   "cell_type": "code",
   "execution_count": 50,
   "metadata": {
    "collapsed": false
   },
   "outputs": [
    {
     "name": "stdout",
     "output_type": "stream",
     "text": [
      "64\n",
      "49\n",
      "36\n",
      "25\n",
      "16\n",
      "9\n",
      "4\n",
      "1\n"
     ]
    }
   ],
   "source": [
    "# Your code here\n",
    "# Complete the task in q4 with a while loop\n",
    "\n",
    "current_time = 8\n",
    "\n",
    "while current_time > 0:\n",
    "    print(current_time**2)\n",
    "    current_time = current_time - 1"
   ]
  },
  {
   "cell_type": "markdown",
   "metadata": {},
   "source": [
    "\n",
    "\n",
    "## Homework\n",
    "\n",
    "1. Write a for-loop that prints out the numbers from 100 to 110.\n",
    "\n",
    "2. Write a while- loop that prints out the numbers from 100 to 110.  \n",
    "\n",
    "3. Write a loop that prints out the squares of the numbers from 10-15. This can be a for or a while loop.\n",
    "\n",
    "4. Write a loop that iterates over the list [\"Scooby\", \"Shaggy\", \"Velma\", \"Daphne\", \"Fred\"] and for each character prints the statement \"XXX is a character in that most glorious of cartoons, Scooby Doo\". \n",
    "\n",
    "5. Write a function that meets the following criteria:\n",
    "\n",
    "<pre>\n",
    "1. The function must be named \"fact_or_sum\"   \n",
    "2. The function must take in one input, which must be an integer. If the user inputs a string, the function should return an error message.\n",
    "3. If the input integer is 0, the function returns the number 0.  \n",
    "4. If the input integer is an odd number, the function returns the factorial of the number. \n",
    "4a. A factorial is computed as the product of a number and each integer below that number, until 1 (e.g. n*(n-1)*(n-2)...*1)\n",
    "5. The factorial MUST be computed with a for loop. \n",
    "6. If the input integer is an even number, the function returns the sum of that number and all numbers below it, until 1 (e.g. n+(n-1)+(n-2)...+1).\n",
    "6a. The sum must be computed with a while loop.\n",
    "</pre>"
   ]
  }
 ],
 "metadata": {
  "anaconda-cloud": {},
  "kernelspec": {
   "display_name": "Python [conda root]",
   "language": "python",
   "name": "conda-root-py"
  },
  "language_info": {
   "codemirror_mode": {
    "name": "ipython",
    "version": 3
   },
   "file_extension": ".py",
   "mimetype": "text/x-python",
   "name": "python",
   "nbconvert_exporter": "python",
   "pygments_lexer": "ipython3",
   "version": "3.5.2"
  }
 },
 "nbformat": 4,
 "nbformat_minor": 2
}

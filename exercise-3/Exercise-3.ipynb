{
 "cells": [
  {
   "cell_type": "markdown",
   "metadata": {},
   "source": [
    "\n",
    "![](https://i.stack.imgur.com/OtSPD.png)\n",
    "\n",
    "## Exercise 3: Python through a Jupyter notebook\n",
    "\n",
    "\n",
    "Python is a programming language that basically allows you to \"do things to objects.\" The objects in python are called variables, the things you can do to variables are called functions. We start this week by going through some of the types of objects in python, and then present some of the things you can do to them. \n",
    "\n",
    "But first, let's look at programming basics."
   ]
  },
  {
   "cell_type": "code",
   "execution_count": 90,
   "metadata": {
    "collapsed": true,
    "scrolled": true
   },
   "outputs": [],
   "source": [
    "# This is my first python notebook!\n",
    "\n",
    "# Any line in a python file that begins with a \"#\" character (\"hashtag\", \"octothorpe\", ...) is a comment- \n",
    "# Comments are human-readable lines that explain what the computer code is performing\n",
    "# Python ignores these lines, but any human should be able to read the comments in your code \n",
    "# to figure out exactly what your program does. \n"
   ]
  },
  {
   "cell_type": "markdown",
   "metadata": {},
   "source": [
    "### Python can function as an overpowered calculator:"
   ]
  },
  {
   "cell_type": "code",
   "execution_count": 91,
   "metadata": {
    "collapsed": false,
    "scrolled": true
   },
   "outputs": [
    {
     "name": "stdout",
     "output_type": "stream",
     "text": [
      "4\n",
      "6\n",
      "8\n",
      "2\n"
     ]
    }
   ],
   "source": [
    "\n",
    "# add, multiply, exponentiate\n",
    "print(2+2)\n",
    "print(2*3)\n",
    "print(2**3)\n",
    "\n",
    "# programs often make use of the modulus operator:\n",
    "print(8 % 3)\n",
    "\n",
    "# see pages 59-60 of CSB text for a full list of mathematical operators"
   ]
  },
  {
   "cell_type": "markdown",
   "metadata": {},
   "source": [
    "### Questions to answer:\n",
    "\n",
    "**What does this modulus operator achieve? How did you figure this out?**    \n",
    "\n",
    "[your answer here]\n",
    "\n",
    "\n",
    "**Briefly describe a scenario in which this might be useful.**  \n",
    "\n",
    "[your answer here]\n"
   ]
  },
  {
   "cell_type": "code",
   "execution_count": 92,
   "metadata": {
    "collapsed": false,
    "scrolled": true
   },
   "outputs": [
    {
     "name": "stdout",
     "output_type": "stream",
     "text": [
      "This line has both code and comments\n"
     ]
    }
   ],
   "source": [
    "# Comments can go after a line of valid code:\n",
    "\n",
    "print(\"This line has both code and comments\") # here is a comment"
   ]
  },
  {
   "cell_type": "code",
   "execution_count": 93,
   "metadata": {
    "collapsed": false,
    "scrolled": true
   },
   "outputs": [
    {
     "data": {
      "text/plain": [
       "False"
      ]
     },
     "execution_count": 93,
     "metadata": {},
     "output_type": "execute_result"
    }
   ],
   "source": [
    "# Python can do comparisons\n",
    "\n",
    "# is (5+7) greater than (2*6)?\n",
    "(5+7) > 2*6"
   ]
  },
  {
   "cell_type": "code",
   "execution_count": 94,
   "metadata": {
    "collapsed": false,
    "scrolled": true
   },
   "outputs": [
    {
     "data": {
      "text/plain": [
       "True"
      ]
     },
     "execution_count": 94,
     "metadata": {},
     "output_type": "execute_result"
    }
   ],
   "source": [
    "# is (5+7) greater than or equal to (2*6)?\n",
    "(5+7) >= 2*6"
   ]
  },
  {
   "cell_type": "markdown",
   "metadata": {},
   "source": [
    "### Variable names \n",
    "\n",
    "A lot of computing involves manipulating variables. You can think of variables as a box that hold some information. Variables can hold different types of information - some can contain integers, others might contains text strings, others might have a combination, etc. When we name a variable, we basically assign a name to some piece of information:"
   ]
  },
  {
   "cell_type": "code",
   "execution_count": 95,
   "metadata": {
    "collapsed": true,
    "scrolled": true
   },
   "outputs": [],
   "source": [
    "# Let's make a variable called \"favorite_pizza_topping\" and assign it the value \"grapes\"\n",
    "\n",
    "favorite_pizza_topping = \"grapes\""
   ]
  },
  {
   "cell_type": "code",
   "execution_count": 96,
   "metadata": {
    "collapsed": false,
    "scrolled": true
   },
   "outputs": [
    {
     "data": {
      "text/plain": [
       "'grapes'"
      ]
     },
     "execution_count": 96,
     "metadata": {},
     "output_type": "execute_result"
    }
   ],
   "source": [
    "# Then we can see what we saved in favorite_pizza_topping\n",
    "favorite_pizza_topping"
   ]
  },
  {
   "cell_type": "code",
   "execution_count": 97,
   "metadata": {
    "collapsed": false,
    "scrolled": true
   },
   "outputs": [],
   "source": [
    "# We can override what is saved in an existent variable:\n",
    "favorite_pizza_topping = \"feta cheese\""
   ]
  },
  {
   "cell_type": "code",
   "execution_count": 98,
   "metadata": {
    "collapsed": false,
    "scrolled": true
   },
   "outputs": [
    {
     "data": {
      "text/plain": [
       "'feta cheese'"
      ]
     },
     "execution_count": 98,
     "metadata": {},
     "output_type": "execute_result"
    }
   ],
   "source": [
    "favorite_pizza_topping"
   ]
  },
  {
   "cell_type": "code",
   "execution_count": 99,
   "metadata": {
    "collapsed": false,
    "scrolled": true
   },
   "outputs": [
    {
     "data": {
      "text/plain": [
       "8"
      ]
     },
     "execution_count": 99,
     "metadata": {},
     "output_type": "execute_result"
    }
   ],
   "source": [
    "# Let's play with some numbers\n",
    "\n",
    "a = 10\n",
    "b = 7\n",
    "\n",
    "a - b\n",
    "a - 2\n"
   ]
  },
  {
   "cell_type": "markdown",
   "metadata": {
    "collapsed": false
   },
   "source": [
    "### Assigning variables with \"=\" vs. comparisons with \"==\"\n",
    "\n",
    "A single `=` sign is used for assigning values to variables, but a double equal to sign `==` is used to check if two objects are identical"
   ]
  },
  {
   "cell_type": "code",
   "execution_count": 100,
   "metadata": {
    "collapsed": false,
    "scrolled": true
   },
   "outputs": [],
   "source": [
    "# assign\n",
    "a = 10\n"
   ]
  },
  {
   "cell_type": "code",
   "execution_count": 101,
   "metadata": {
    "collapsed": false,
    "scrolled": true
   },
   "outputs": [
    {
     "data": {
      "text/plain": [
       "False"
      ]
     },
     "execution_count": 101,
     "metadata": {},
     "output_type": "execute_result"
    }
   ],
   "source": [
    "a == 100"
   ]
  },
  {
   "cell_type": "code",
   "execution_count": 102,
   "metadata": {
    "collapsed": false,
    "scrolled": true
   },
   "outputs": [
    {
     "data": {
      "text/plain": [
       "True"
      ]
     },
     "execution_count": 102,
     "metadata": {},
     "output_type": "execute_result"
    }
   ],
   "source": [
    "a == 10"
   ]
  },
  {
   "cell_type": "markdown",
   "metadata": {},
   "source": [
    "### Object types\n",
    "Python has several different \"types\" of objects. Some of these are very straightforward - e.g. `integer`, `string`; others might d a little less obvious, e.g. `list`, `dictionary`. I won't introduce dictionaries formally here - see line 444 of CSB Ch. 3."
   ]
  },
  {
   "cell_type": "code",
   "execution_count": 103,
   "metadata": {
    "collapsed": false,
    "scrolled": true
   },
   "outputs": [
    {
     "data": {
      "text/plain": [
       "int"
      ]
     },
     "execution_count": 103,
     "metadata": {},
     "output_type": "execute_result"
    }
   ],
   "source": [
    "a = 100\n",
    "type(a)"
   ]
  },
  {
   "cell_type": "code",
   "execution_count": 104,
   "metadata": {
    "collapsed": false,
    "scrolled": true
   },
   "outputs": [
    {
     "data": {
      "text/plain": [
       "str"
      ]
     },
     "execution_count": 104,
     "metadata": {},
     "output_type": "execute_result"
    }
   ],
   "source": [
    "type(\"a\")"
   ]
  },
  {
   "cell_type": "code",
   "execution_count": 105,
   "metadata": {
    "collapsed": false,
    "scrolled": true
   },
   "outputs": [
    {
     "data": {
      "text/plain": [
       "list"
      ]
     },
     "execution_count": 105,
     "metadata": {},
     "output_type": "execute_result"
    }
   ],
   "source": [
    "fruits = [\"apples\", \"grapes\", \"bananas\"]\n",
    "type(fruits)"
   ]
  },
  {
   "cell_type": "markdown",
   "metadata": {},
   "source": [
    "### Conditionals in Python\n",
    "*Conditional* statements allow us to write programs that behave differently based on some external parameters. For example, we might want to write a program that prints \"Endangered species present!\" if a sample of DNA is found to have sequences from an endangered species, or \"No endangered species detected\" if not."
   ]
  },
  {
   "cell_type": "code",
   "execution_count": 106,
   "metadata": {
    "collapsed": false
   },
   "outputs": [
    {
     "name": "stdout",
     "output_type": "stream",
     "text": [
      "a is equal to 5\n"
     ]
    }
   ],
   "source": [
    "a = 5\n",
    "\n",
    "if a == 5: # note that all if statements are of the structure \"if <CONDITION> :\n",
    "    print(\"a is equal to 5\") # note that the entire \"body\" of an if statement must be tabbed over (4 spaces)"
   ]
  },
  {
   "cell_type": "code",
   "execution_count": 107,
   "metadata": {
    "collapsed": true
   },
   "outputs": [],
   "source": [
    "if a == 6:\n",
    "    print(\"a is equal to 6\") \n",
    "# Nothing printed from this output, since we don't ask the program to do anything if a is not equal to 6"
   ]
  },
  {
   "cell_type": "code",
   "execution_count": 108,
   "metadata": {
    "collapsed": false
   },
   "outputs": [
    {
     "name": "stdout",
     "output_type": "stream",
     "text": [
      "a is not equal to 6\n"
     ]
    }
   ],
   "source": [
    "if a == 6: \n",
    "    print(\"a is equal to 6\")\n",
    "else: # no <CONDITION> required for else statement- the statement is just run if the previous conditional is False\n",
    "    print(\"a is not equal to 6\")"
   ]
  },
  {
   "cell_type": "code",
   "execution_count": 109,
   "metadata": {
    "collapsed": false
   },
   "outputs": [
    {
     "data": {
      "text/plain": [
       "True"
      ]
     },
     "execution_count": 109,
     "metadata": {},
     "output_type": "execute_result"
    }
   ],
   "source": [
    "# we can do conditionals on strings\n",
    "\n",
    "food = \"pizza\"\n",
    "\n",
    "food == \"pizza\""
   ]
  },
  {
   "cell_type": "code",
   "execution_count": 110,
   "metadata": {
    "collapsed": false
   },
   "outputs": [
    {
     "name": "stdout",
     "output_type": "stream",
     "text": [
      "a is neither greater than or equal to 6, nor less than or equal to 4\n"
     ]
    }
   ],
   "source": [
    "# Series of if-else statements with elif\n",
    "\n",
    "a = 5\n",
    "\n",
    "if a <= 4:\n",
    "    print(\"a is less than or equal to 4\")\n",
    "elif a >= 6:\n",
    "    print(\"a is greater than or equal to 6\")\n",
    "else: \n",
    "    print(\"a is neither greater than or equal to 6, nor less than or equal to 4\")"
   ]
  },
  {
   "cell_type": "markdown",
   "metadata": {},
   "source": [
    "### Functions\n",
    "As I said above, python is a language that lets you do things to objects. We've explored some of the types of objects - `int`, `str`, `list`, etc. Now, we begin to explore how to do things to these objects.\n",
    "\n",
    "There are two ways to do things in python- first, we can use built-in or custom-written functions; second, we can use object-specific methods. We will explore each of these in turn.\n",
    "\n",
    "Let's begin with built-in functions. We have used some of these already (`print()`, `type()`), but there's a lot more out there."
   ]
  },
  {
   "cell_type": "code",
   "execution_count": 111,
   "metadata": {
    "collapsed": false
   },
   "outputs": [
    {
     "data": {
      "text/plain": [
       "3"
      ]
     },
     "execution_count": 111,
     "metadata": {},
     "output_type": "execute_result"
    }
   ],
   "source": [
    "# Built in functions\n",
    "\n",
    "# All functions are of the format \"name_of_function(user_input)\", where \"user_input\" is something the user defines.\n",
    "\n",
    "# the len() function returns the length of a list\n",
    "\n",
    "fruits = [\"apples\", \"grapes\", \"bananas\"]\n",
    "len(fruits)"
   ]
  },
  {
   "cell_type": "code",
   "execution_count": 112,
   "metadata": {
    "collapsed": false
   },
   "outputs": [
    {
     "data": {
      "text/plain": [
       "123"
      ]
     },
     "execution_count": 112,
     "metadata": {},
     "output_type": "execute_result"
    }
   ],
   "source": [
    "# abs() returns the absolute value\n",
    "abs(-123)"
   ]
  },
  {
   "cell_type": "code",
   "execution_count": 113,
   "metadata": {
    "collapsed": false
   },
   "outputs": [
    {
     "name": "stdout",
     "output_type": "stream",
     "text": [
      "Help on built-in function abs in module builtins:\n",
      "\n",
      "abs(x, /)\n",
      "    Return the absolute value of the argument.\n",
      "\n"
     ]
    }
   ],
   "source": [
    "# the help() function returns help files for other functions\n",
    "help(abs)"
   ]
  },
  {
   "cell_type": "markdown",
   "metadata": {},
   "source": [
    "#### Custom defined functions\n",
    "The power of programming lies in writing custom functions that make computers perform complicated tasks to our specifications- we achieve this by writing custom functions."
   ]
  },
  {
   "cell_type": "code",
   "execution_count": 114,
   "metadata": {
    "collapsed": true
   },
   "outputs": [],
   "source": [
    "# let's write a simple function that returns \"three times the square of the input value\":\n",
    "\n",
    "def sq_times_three(number): # all custom functions are written as \"def function_name(input):\"\n",
    "    return((number**2)*3)   # the body of the function is always tabbed over (4 spaces)"
   ]
  },
  {
   "cell_type": "code",
   "execution_count": 115,
   "metadata": {
    "collapsed": false
   },
   "outputs": [
    {
     "data": {
      "text/plain": [
       "12"
      ]
     },
     "execution_count": 115,
     "metadata": {},
     "output_type": "execute_result"
    }
   ],
   "source": [
    "# test our custom function\n",
    "# sq_times_three(2) should return (2^2)*3 = 12\n",
    "sq_times_three(2) "
   ]
  },
  {
   "cell_type": "code",
   "execution_count": 116,
   "metadata": {
    "collapsed": false
   },
   "outputs": [
    {
     "data": {
      "text/plain": [
       "27"
      ]
     },
     "execution_count": 116,
     "metadata": {},
     "output_type": "execute_result"
    }
   ],
   "source": [
    "# sq_times_three(-3) should return (-3^2)*3 = 27\n",
    "sq_times_three(3)"
   ]
  },
  {
   "cell_type": "markdown",
   "metadata": {},
   "source": [
    "Functions in python don't just do mathematical operations. They can take any input and return any output. \n",
    "\n",
    "Let's write a function that performs the following task (Adapted from Google for Education's Learn Python module):\n",
    "\n",
    "````\n",
    "# Function name: donuts\n",
    "# Given an int count of a number of donuts, return a string\n",
    "# of the form 'Number of donuts: <count>', where <count> is the number\n",
    "# passed in. However, if the count is 10 or more, then use the word 'many'\n",
    "# instead of the actual count.\n",
    "# So donuts(5) returns 'Number of donuts: 5'\n",
    "# and donuts(23) returns 'Number of donuts: many'\n",
    "```\n",
    "\n",
    "Let's make a game plan first:  \n",
    "1. The function should be called `donuts`, so the first line should be `def donuts(count):`.  \n",
    "2. The function needs to perform different things based on what is the value of counts. Do we know how to make a computer perform different tasks based on input? \n",
    "[YOUR ANSWER HERE]\n",
    "3. The function then needs to return a string.\n",
    "\n",
    "\n",
    "**Write your solution in the next code chunk**. Hint: you can concatenate a variable to a defined string using the format `print(\"words\" + variable)`. Check your code by removing the comment hashtags"
   ]
  },
  {
   "cell_type": "code",
   "execution_count": 117,
   "metadata": {
    "collapsed": false
   },
   "outputs": [],
   "source": [
    "#def donuts(count):\n",
    "#    if (condition):\n",
    "#        return(a string)\n",
    "#    else:\n",
    "#        return(a different string)\n",
    "# donuts(5)\n",
    "# donuts(23)"
   ]
  },
  {
   "cell_type": "markdown",
   "metadata": {},
   "source": [
    "#### Object Methods\n",
    "\n",
    "Python is an object oriented language- all objects contain data but also some useful methods of manipulation. See Section 3.4.5 in CSB text for more on this."
   ]
  },
  {
   "cell_type": "markdown",
   "metadata": {},
   "source": [
    "### Regular Expressions in python using the re library\n",
    "\n",
    "We can do regular expressions in python by importing the `re` library (a library is a set of functions that is not shipped with the core python program but can be imported in as needed). The `re` library contains a lot of functions that can help with string manipulation, as I demonstrate below."
   ]
  },
  {
   "cell_type": "code",
   "execution_count": 118,
   "metadata": {
    "collapsed": false
   },
   "outputs": [
    {
     "name": "stdout",
     "output_type": "stream",
     "text": [
      "[',']\n",
      "[' world!']\n"
     ]
    }
   ],
   "source": [
    "import re\n",
    "my_string = \"Hello, world!\"\n",
    "\n",
    "# we can just find a string\n",
    "print(re.findall(pattern=\",\", string=my_string)) # find a comma\n",
    "# find a space (\\s), followed by the letter 'w', followed by any character (.*)\n",
    "print(re.findall(pattern=\"\\sw.*\", string=my_string)) "
   ]
  },
  {
   "cell_type": "code",
   "execution_count": 119,
   "metadata": {
    "collapsed": false
   },
   "outputs": [
    {
     "name": "stdout",
     "output_type": "stream",
     "text": [
      "group 0 of the regex is:\n",
      "denovo105;   Orthopteroidea; 100; Orthoptera; 100; Ensifera; 100; Grylloidea; 100; Gryllidae; 100; Gryllinae; 100\n",
      "\n",
      "group 1 of the regex is:\n",
      "denovo105;\n"
     ]
    }
   ],
   "source": [
    "# From last week\n",
    "line = \"denovo105;   Orthopteroidea; 100; Orthoptera; 100; Ensifera; 100; Grylloidea; 100; Gryllidae; 100; Gryllinae; 100; Gryllodes; 50; Gryllodes sigillatus; 50;\"\n",
    "to_write = re.search(\"(denovo\\d*;).*;\\s100\", line)\n",
    "print(\"group 0 of the regex is:\")\n",
    "print(to_write.group(0))\n",
    "\n",
    "print(\"\\ngroup 1 of the regex is:\")\n",
    "print(to_write.group(1))\n"
   ]
  },
  {
   "cell_type": "code",
   "execution_count": 120,
   "metadata": {
    "collapsed": true
   },
   "outputs": [],
   "source": [
    "# Regular expressions for matching patterns in DNA \n",
    "dna = \"ATCGCGAATTCAC\"\n",
    "if re.search(r\"GC(A|T|G|C)GC\", dna):\n",
    "    print(\"restriction site found!\")"
   ]
  },
  {
   "cell_type": "markdown",
   "metadata": {},
   "source": [
    "## Homework\n",
    "\n",
    "This homework should be submitted as an ipython notebook file committed in your github repo by next Wednesday, 1 Feb.\n",
    "\n",
    "\\1. Create a new ipython notebook in your `exercise-3` folder within `lab-work`. Call this file \"Exercise-3-hw\". \n",
    "\\2. Define the following variables in your new ipython notebook:\n",
    "\n",
    "```\n",
    "set \"a\" equal to 3\n",
    "set \"b\" equal to 17\n",
    "set \"c\" equal to the sum of a and b\n",
    "\n",
    "set \"favorite_animal\" to one of your favorite animals\n",
    "\n",
    "set \"favorite_dinners\" to a list of three of your favorite dinners\n",
    "\n",
    "set \"num_fav_dinners\" to the number of items in your \"favorite_dinners\" list. NOTE: You must use the len() function to achieve this task.\n",
    "```\n",
    "\n",
    "\\3. Write a function named \"hw3_function\". This function must meet the following criteria: \n",
    "\n",
    "```\n",
    "The function should take an integer as an input. If the user runs the function with something that is not an integer, your function should print an error message.\n",
    "\n",
    "If the integer is less than 5, return the message \"Brr! It's cold!\"\n",
    "If the integer is greater than 25, return the message \"It's pretty warm!\"\n",
    "If the integer is between 5 and 25, return the message \"What a pleasant temperature!\"\n",
    "\n",
    "For example, hw3_function(\"duck\") should return an error\n",
    "For example, hw3_function(17) should return \"What a pleasant temperature!\"\n",
    "```\n",
    "\n",
    "\\4. Consider the DNA string \"ATAATTAACGGAGCTTATTA\". Write a python regular expression that will search for the patter \"G, A or T, A or T, G, A or T or G or C\".\n",
    "\n",
    "\\5. Write a function that plays \"Rock Paper Scissors\" with the user. Your functions should meet the following criteria:\n",
    "\n",
    "```\n",
    "The function shold be named \"rps\"\n",
    "\n",
    "The user must input the words \"rock\" or \"paper\" or \"scissors\" into the function. If the user enters anything else, the function should print a statement asking the user to run it again properly.\n",
    "\n",
    "The function should randomly select one of \"rock, paper, scissors\" each time it is run. Hint: you wil have to use the \"choice\" function in the \"random\" library to select from a list each time. Feel free to google for advice on this.\n",
    "\n",
    "The function should follow the standard rules of rock paper scissors (\"rock beats scissors; scissors beats paper; paper beats rock; tie of both the same\") to determine a winner.\n",
    "\n",
    "The function should return a string of the following format: \"You picked <user_choice>; Computer picked <random_choice>; +1 for <You or Computer>!\"\n",
    "\n",
    "For example, rps(\"rock\") can return either one of the three sentences, depending on which is sampled randomly:\n",
    "\"You picked rock; Computer picked rock; this is a tie!\"\n",
    "\"You picked rock; Computer picked paper; +1 for Computer!\"\n",
    "\"You picked rock; Computer picked scissors; +1 for You!\"\n",
    "```\n",
    "\n"
   ]
  },
  {
   "cell_type": "code",
   "execution_count": null,
   "metadata": {
    "collapsed": true
   },
   "outputs": [],
   "source": []
  },
  {
   "cell_type": "code",
   "execution_count": null,
   "metadata": {
    "collapsed": false
   },
   "outputs": [],
   "source": []
  },
  {
   "cell_type": "code",
   "execution_count": null,
   "metadata": {
    "collapsed": true
   },
   "outputs": [],
   "source": []
  }
 ],
 "metadata": {
  "anaconda-cloud": {},
  "kernelspec": {
   "display_name": "Python [conda root]",
   "language": "python",
   "name": "conda-root-py"
  },
  "language_info": {
   "codemirror_mode": {
    "name": "ipython",
    "version": 3
   },
   "file_extension": ".py",
   "mimetype": "text/x-python",
   "name": "python",
   "nbconvert_exporter": "python",
   "pygments_lexer": "ipython3",
   "version": "3.5.2"
  }
 },
 "nbformat": 4,
 "nbformat_minor": 2
}

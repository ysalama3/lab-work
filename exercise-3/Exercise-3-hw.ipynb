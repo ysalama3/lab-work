{
 "cells": [
  {
   "cell_type": "code",
   "execution_count": 8,
   "metadata": {
    "collapsed": false
   },
   "outputs": [
    {
     "data": {
      "text/plain": [
       "18"
      ]
     },
     "execution_count": 8,
     "metadata": {},
     "output_type": "execute_result"
    }
   ],
   "source": [
    "a = 3\n",
    "b = 17\n",
    "c = a + b\n",
    "\n",
    "favorite_animal = \"horse\"\n",
    "favorite_dinners = \"pizza, fries, fish\"\n",
    "num_fav_dinners = \"3\"\n",
    "len(favorite_dinners)\n",
    "\n"
   ]
  },
  {
   "cell_type": "code",
   "execution_count": 19,
   "metadata": {
    "collapsed": false
   },
   "outputs": [
    {
     "data": {
      "text/plain": [
       "'What a pleasant temperature!'"
      ]
     },
     "execution_count": 19,
     "metadata": {},
     "output_type": "execute_result"
    }
   ],
   "source": [
    "def hw3_function(count):\n",
    "    if count<5: \n",
    "        return(\"Brr! It's cold!\")\n",
    "    if count>25:\n",
    "        return(\"It's pretty warm!\")\n",
    "    if 5 <= count <= 25:\n",
    "        return(\"What a pleasant temperature!\")\n",
    " \n",
    "     \n",
    "hw3_function(10)"
   ]
  },
  {
   "cell_type": "code",
   "execution_count": 9,
   "metadata": {
    "collapsed": false
   },
   "outputs": [
    {
     "data": {
      "text/plain": [
       "0"
      ]
     },
     "execution_count": 9,
     "metadata": {},
     "output_type": "execute_result"
    }
   ],
   "source": [
    "s = \"ATAATTAACGGAGCTTATTA\"\n",
    "s.count(\"GA|TA|TGA|T|G|C\")\n"
   ]
  },
  {
   "cell_type": "code",
   "execution_count": null,
   "metadata": {
    "collapsed": false
   },
   "outputs": [
    {
     "name": "stdout",
     "output_type": "stream",
     "text": [
      "Rock, Paper, Scissors?Paper\n",
      "You picked Paper; Computer picked Scissors; +1 for Computer Scissors cut Paper\n"
     ]
    }
   ],
   "source": [
    "from random import randint\n",
    "rps = [\"Rock\", \"Paper\", \"Scissors\"]\n",
    "computer = rps[randint(0,2)]\n",
    "player = False\n",
    "while player == False:\n",
    "    player = input(\"Rock, Paper, Scissors?\")\n",
    "    if player == computer:\n",
    "        print(\"this is a tie!\")\n",
    "    elif player == \"Rock\":\n",
    "        if computer == \"Paper\":\n",
    "            print(\"You picked rock; Computer picked paper; +1 for Computer\", computer, \"covers\", player)\n",
    "        else:\n",
    "            print(\"You picked rock; Computer picked scissors; +1 for You\", player, \"smashes\", computer)\n",
    "    elif player == \"Paper\":\n",
    "        if computer == \"Scissors\":\n",
    "            print(\"You picked Paper; Computer picked Scissors; +1 for Computer\", computer, \"cut\", player)\n",
    "        else:\n",
    "            print(\"You picked Paper; Computer picked Rock; +1 for You\", player, \"covers\", computer)\n",
    "    elif player == \"Scissors\":\n",
    "        if computer == \"Rock\":\n",
    "            print(\"You picked Scissors; Computer picked Rock; +1 for Computer\", computer, \"smashes\", player)\n",
    "        else:\n",
    "            print(\"You picked Scissors; Computer picked Paper; +1 for You!\", player, \"cut\", computer)\n",
    "    else:\n",
    "        print(\"That's not a valid play. Check your spelling!\")\n",
    "    player = False\n",
    "    computer = rps[randint(0,2)]\n",
    "    \n",
    "\n",
    "\n",
    "\n"
   ]
  },
  {
   "cell_type": "code",
   "execution_count": null,
   "metadata": {
    "collapsed": true
   },
   "outputs": [],
   "source": []
  }
 ],
 "metadata": {
  "anaconda-cloud": {},
  "kernelspec": {
   "display_name": "Python [conda root]",
   "language": "python",
   "name": "conda-root-py"
  },
  "language_info": {
   "codemirror_mode": {
    "name": "ipython",
    "version": 3
   },
   "file_extension": ".py",
   "mimetype": "text/x-python",
   "name": "python",
   "nbconvert_exporter": "python",
   "pygments_lexer": "ipython3",
   "version": "3.5.2"
  }
 },
 "nbformat": 4,
 "nbformat_minor": 2
}

{
 "cells": [
  {
   "cell_type": "markdown",
   "metadata": {},
   "source": [
    "## Analysing sequence data in a big file\n",
    "\n",
    "So far in this class, you have been introduced to various constructs in python that we can use to analyse data. Now, we will put a lot of those constructs together to build a script that will perform a fairly sophisticated and real-world analysis on a real-world data file.\n",
    "\n",
    "The data file we will be using is the `Marra2014_data.fasta` file that you have already used for several CSB assignments. Recall the structure and contents of `fasta` files- all such files include header lines that begin with a `>` character, and lines in between headings are DNA or protein sequences.  \n",
    "\n",
    "The task for this week is to write a **python** script that will *import* in this data file from wherever it is currently stored (`CSB/unix/data/`), and *export* a csv-formatted data file to the *current working directory*. The csv file should have two columns:   The first column of the CSV output should be the name of each unique contig; the second column should be the number of times the sequence of nucleotide sequence `AATG` appears in that contig. \n",
    "\n",
    "For example, if the following contig were in the data file (it isn't), your output csv should have a row that reads `contig99999, 2`)\n",
    "\n",
    "```\n",
    ">contig99999  length=61  numreads=2  gene=isogroup99999  status=it_thresh\n",
    "ATCCTAGCTACTCTGGAGACTGAAATGTGAAGTTCAAAGTCAGCTCAAGCAAGAGAAATG\n",
    "```\n",
    "\n",
    "because the sequence AATG appears twice:\n",
    "ATCCTAGCTACTCTGGAGACTGA**AATG**TGAAGTTCAAAGTCAGCTCAAGCAAGAGA**AATG**\n",
    "\n",
    "Submit this as a Python Notebook named `sequence_finding.ipynb` within the `python_exercises` directory in `exercise-5`.\n",
    "\n",
    "#### Here are some hints:\n",
    "\n",
    "I have provided you with the output file `gauravs_output.csv`, which is exactly the file that your script should export. \n",
    "\n",
    "I recommend that you **begin by writing pseudocode** that sketches out the logic that you plan to follow in your script.  \n",
    "\n",
    "I recommend that you chunk up your goals into bite-sized pieces. For example, write a code chunk that just counts the AATGs; a separate code chunk that just captures the name of the contig, etc. and then put them all together. \n",
    "\n",
    "I recommend that you make a subset of the full data file which includes just a few sequences (maybe 3-5) that you can use to make sure that your program is running correctly. \n",
    "\n",
    "These are some lines of code that I used when I wrote a solution to this (not presented here in any order) (NOTE: you don't necessarily need to use these lines- just putting them here for ideas):  \n",
    "\n",
    "`if (re.match(pattern=\">\", string=line)):`       \n",
    "`contig_name = re.search(\">(\\w*)\\s.*\", line).group(1)`       \n",
    "`output.write(key+\",\"+str(value)+\"\\n\")`\n",
    "    \n",
    "I had also defined two empty lists - one for contig names and one for the number of AATGs, at the beginning of the script. \n"
   ]
  },
  {
   "cell_type": "code",
   "execution_count": null,
   "metadata": {
    "collapsed": true
   },
   "outputs": [],
   "source": []
  }
 ],
 "metadata": {
  "anaconda-cloud": {},
  "kernelspec": {
   "display_name": "Python [conda root]",
   "language": "python",
   "name": "conda-root-py"
  },
  "language_info": {
   "codemirror_mode": {
    "name": "ipython",
    "version": 3
   },
   "file_extension": ".py",
   "mimetype": "text/x-python",
   "name": "python",
   "nbconvert_exporter": "python",
   "pygments_lexer": "ipython3",
   "version": "3.5.2"
  }
 },
 "nbformat": 4,
 "nbformat_minor": 2
}
